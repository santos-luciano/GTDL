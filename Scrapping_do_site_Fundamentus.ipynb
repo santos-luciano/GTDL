{
  "nbformat": 4,
  "nbformat_minor": 0,
  "metadata": {
    "colab": {
      "provenance": [],
      "authorship_tag": "ABX9TyOfwQJYHzFn7aJeaGrGiifd",
      "include_colab_link": true
    },
    "kernelspec": {
      "name": "python3",
      "display_name": "Python 3"
    },
    "language_info": {
      "name": "python"
    }
  },
  "cells": [
    {
      "cell_type": "markdown",
      "metadata": {
        "id": "view-in-github",
        "colab_type": "text"
      },
      "source": [
        "<a href=\"https://colab.research.google.com/github/santos-luciano/GTDL/blob/main/Scrapping_do_site_Fundamentus.ipynb\" target=\"_parent\"><img src=\"https://colab.research.google.com/assets/colab-badge.svg\" alt=\"Open In Colab\"/></a>"
      ]
    },
    {
      "cell_type": "markdown",
      "source": [
        "Nos dias atuais muito se diz que devemos investir, mas investir aonde?\n",
        "Antes de aportamos nosso capital em algum lugar, é de bastante relevância realizar estudos de para onde está indo nosso dinheiro. Quando investimos em uma empresa, estamos buscando a prosperidade tanto individual quanto da empresa. Então é de bastante importância procuramos as melhores empresasas para destinarmos o nosso dinheiro. O que diz se uma empresa é boa? Existem diversos aspectos que podem definir se uma empresa boa,como balanços financeiros, administração, indicadores fundamentalistas e etc. Este último será buscado através do scraping da pagina Fundamentus"
      ],
      "metadata": {
        "id": "9PTmrl4jMnzg"
      }
    },
    {
      "cell_type": "markdown",
      "source": [
        "#Importando pacotes"
      ],
      "metadata": {
        "id": "MjqxhZm0Mg_J"
      }
    },
    {
      "cell_type": "code",
      "execution_count": 2,
      "metadata": {
        "id": "IbamuZNRMap-"
      },
      "outputs": [],
      "source": [
        "import requests\n",
        "import json\n",
        "from bs4 import BeautifulSoup\n",
        "import pandas as pd"
      ]
    },
    {
      "cell_type": "markdown",
      "source": [
        "# Lendo a página para criar o data.frame"
      ],
      "metadata": {
        "id": "0RmdJe7YOvpS"
      }
    },
    {
      "cell_type": "code",
      "source": [
        "headers = {\n",
        "    'Accept': '*/*',\n",
        "    'Accept-Language': 'pt-BR,pt;q=0.9,en-US;q=0.8,en;q=0.7',\n",
        "    'Connection': 'keep-alive',\n",
        "    'Content-type': 'application/x-www-form-urlencoded',\n",
        "    'Origin': 'https://www.fundamentus.com.br',\n",
        "    'Referer': 'https://www.fundamentus.com.br/',\n",
        "    'Sec-Fetch-Dest': 'empty',\n",
        "    'Sec-Fetch-Mode': 'cors',\n",
        "    'Sec-Fetch-Site': 'cross-site',\n",
        "    'User-Agent': 'Mozilla/5.0 (Windows NT 10.0; Win64; x64) AppleWebKit/537.36 (KHTML, like Gecko) Chrome/110.0.0.0 Safari/537.36',\n",
        "    'sec-ch-ua': '\"Chromium\";v=\"110\", \"Not A(Brand\";v=\"24\", \"Google Chrome\";v=\"110\"',\n",
        "    'sec-ch-ua-mobile': '?0',\n",
        "    'sec-ch-ua-platform': '\"Windows\"',\n",
        "}\n",
        "\n",
        "page = requests.get('https://www.fundamentus.com.br/resultado.php?segmento=1',\n",
        "                    headers = headers)\n",
        "\n",
        "\n",
        "soup_start = BeautifulSoup(page.content,'html.parser')\n",
        "columns = soup_start.find('tr').text.split('\\n')\n",
        "columns.append('segmento')\n",
        "papel_fundamentus = pd.DataFrame(columns = columns)\n"
      ],
      "metadata": {
        "id": "rXcLWPWJO3U-"
      },
      "execution_count": 3,
      "outputs": []
    },
    {
      "cell_type": "markdown",
      "source": [
        "Após a leitura da pagina, temos a tabela abaixo que será preenchida com os ativos financeiros disponiveis no site"
      ],
      "metadata": {
        "id": "RMF5bmK2O_gs"
      }
    },
    {
      "cell_type": "code",
      "source": [
        "papel_fundamentus"
      ],
      "metadata": {
        "colab": {
          "base_uri": "https://localhost:8080/",
          "height": 79
        },
        "id": "icFbAZfFO7SB",
        "outputId": "e0921969-28fe-42eb-b29a-a3b06f8c34db"
      },
      "execution_count": 4,
      "outputs": [
        {
          "output_type": "execute_result",
          "data": {
            "text/plain": [
              "Empty DataFrame\n",
              "Columns: [, Papel, Cotação, P/L, P/VP, PSR, Div.Yield, P/Ativo, P/Cap.Giro, P/EBIT, P/Ativ Circ.Liq, EV/EBIT, EV/EBITDA, Mrg Ebit, Mrg. Líq., Liq. Corr., ROIC, ROE, Liq.2meses, Patrim. Líq, Dív.Brut/ Patrim., Cresc. Rec.5a, , segmento]\n",
              "Index: []\n",
              "\n",
              "[0 rows x 24 columns]"
            ],
            "text/html": [
              "\n",
              "  <div id=\"df-1eaaf7a7-e9d4-4407-bd1e-6a16a76c02ad\">\n",
              "    <div class=\"colab-df-container\">\n",
              "      <div>\n",
              "<style scoped>\n",
              "    .dataframe tbody tr th:only-of-type {\n",
              "        vertical-align: middle;\n",
              "    }\n",
              "\n",
              "    .dataframe tbody tr th {\n",
              "        vertical-align: top;\n",
              "    }\n",
              "\n",
              "    .dataframe thead th {\n",
              "        text-align: right;\n",
              "    }\n",
              "</style>\n",
              "<table border=\"1\" class=\"dataframe\">\n",
              "  <thead>\n",
              "    <tr style=\"text-align: right;\">\n",
              "      <th></th>\n",
              "      <th></th>\n",
              "      <th>Papel</th>\n",
              "      <th>Cotação</th>\n",
              "      <th>P/L</th>\n",
              "      <th>P/VP</th>\n",
              "      <th>PSR</th>\n",
              "      <th>Div.Yield</th>\n",
              "      <th>P/Ativo</th>\n",
              "      <th>P/Cap.Giro</th>\n",
              "      <th>P/EBIT</th>\n",
              "      <th>...</th>\n",
              "      <th>Mrg. Líq.</th>\n",
              "      <th>Liq. Corr.</th>\n",
              "      <th>ROIC</th>\n",
              "      <th>ROE</th>\n",
              "      <th>Liq.2meses</th>\n",
              "      <th>Patrim. Líq</th>\n",
              "      <th>Dív.Brut/ Patrim.</th>\n",
              "      <th>Cresc. Rec.5a</th>\n",
              "      <th></th>\n",
              "      <th>segmento</th>\n",
              "    </tr>\n",
              "  </thead>\n",
              "  <tbody>\n",
              "  </tbody>\n",
              "</table>\n",
              "<p>0 rows × 24 columns</p>\n",
              "</div>\n",
              "      <button class=\"colab-df-convert\" onclick=\"convertToInteractive('df-1eaaf7a7-e9d4-4407-bd1e-6a16a76c02ad')\"\n",
              "              title=\"Convert this dataframe to an interactive table.\"\n",
              "              style=\"display:none;\">\n",
              "        \n",
              "  <svg xmlns=\"http://www.w3.org/2000/svg\" height=\"24px\"viewBox=\"0 0 24 24\"\n",
              "       width=\"24px\">\n",
              "    <path d=\"M0 0h24v24H0V0z\" fill=\"none\"/>\n",
              "    <path d=\"M18.56 5.44l.94 2.06.94-2.06 2.06-.94-2.06-.94-.94-2.06-.94 2.06-2.06.94zm-11 1L8.5 8.5l.94-2.06 2.06-.94-2.06-.94L8.5 2.5l-.94 2.06-2.06.94zm10 10l.94 2.06.94-2.06 2.06-.94-2.06-.94-.94-2.06-.94 2.06-2.06.94z\"/><path d=\"M17.41 7.96l-1.37-1.37c-.4-.4-.92-.59-1.43-.59-.52 0-1.04.2-1.43.59L10.3 9.45l-7.72 7.72c-.78.78-.78 2.05 0 2.83L4 21.41c.39.39.9.59 1.41.59.51 0 1.02-.2 1.41-.59l7.78-7.78 2.81-2.81c.8-.78.8-2.07 0-2.86zM5.41 20L4 18.59l7.72-7.72 1.47 1.35L5.41 20z\"/>\n",
              "  </svg>\n",
              "      </button>\n",
              "      \n",
              "  <style>\n",
              "    .colab-df-container {\n",
              "      display:flex;\n",
              "      flex-wrap:wrap;\n",
              "      gap: 12px;\n",
              "    }\n",
              "\n",
              "    .colab-df-convert {\n",
              "      background-color: #E8F0FE;\n",
              "      border: none;\n",
              "      border-radius: 50%;\n",
              "      cursor: pointer;\n",
              "      display: none;\n",
              "      fill: #1967D2;\n",
              "      height: 32px;\n",
              "      padding: 0 0 0 0;\n",
              "      width: 32px;\n",
              "    }\n",
              "\n",
              "    .colab-df-convert:hover {\n",
              "      background-color: #E2EBFA;\n",
              "      box-shadow: 0px 1px 2px rgba(60, 64, 67, 0.3), 0px 1px 3px 1px rgba(60, 64, 67, 0.15);\n",
              "      fill: #174EA6;\n",
              "    }\n",
              "\n",
              "    [theme=dark] .colab-df-convert {\n",
              "      background-color: #3B4455;\n",
              "      fill: #D2E3FC;\n",
              "    }\n",
              "\n",
              "    [theme=dark] .colab-df-convert:hover {\n",
              "      background-color: #434B5C;\n",
              "      box-shadow: 0px 1px 3px 1px rgba(0, 0, 0, 0.15);\n",
              "      filter: drop-shadow(0px 1px 2px rgba(0, 0, 0, 0.3));\n",
              "      fill: #FFFFFF;\n",
              "    }\n",
              "  </style>\n",
              "\n",
              "      <script>\n",
              "        const buttonEl =\n",
              "          document.querySelector('#df-1eaaf7a7-e9d4-4407-bd1e-6a16a76c02ad button.colab-df-convert');\n",
              "        buttonEl.style.display =\n",
              "          google.colab.kernel.accessAllowed ? 'block' : 'none';\n",
              "\n",
              "        async function convertToInteractive(key) {\n",
              "          const element = document.querySelector('#df-1eaaf7a7-e9d4-4407-bd1e-6a16a76c02ad');\n",
              "          const dataTable =\n",
              "            await google.colab.kernel.invokeFunction('convertToInteractive',\n",
              "                                                     [key], {});\n",
              "          if (!dataTable) return;\n",
              "\n",
              "          const docLinkHtml = 'Like what you see? Visit the ' +\n",
              "            '<a target=\"_blank\" href=https://colab.research.google.com/notebooks/data_table.ipynb>data table notebook</a>'\n",
              "            + ' to learn more about interactive tables.';\n",
              "          element.innerHTML = '';\n",
              "          dataTable['output_type'] = 'display_data';\n",
              "          await google.colab.output.renderOutput(dataTable, element);\n",
              "          const docLink = document.createElement('div');\n",
              "          docLink.innerHTML = docLinkHtml;\n",
              "          element.appendChild(docLink);\n",
              "        }\n",
              "      </script>\n",
              "    </div>\n",
              "  </div>\n",
              "  "
            ]
          },
          "metadata": {},
          "execution_count": 4
        }
      ]
    },
    {
      "cell_type": "markdown",
      "source": [
        "# Navegando pelos setores"
      ],
      "metadata": {
        "id": "KhhfObNqPQTi"
      }
    },
    {
      "cell_type": "markdown",
      "source": [
        "A melhor formar encontrada para conserguirmos coletar as informações do site, foi através dos setores. O programa entra no setor e coleta todos os ativos referentes ao setor"
      ],
      "metadata": {
        "id": "S8xplrV1PUN9"
      }
    },
    {
      "cell_type": "code",
      "source": [
        "for seg in range(1,100):\n",
        "    try:\n",
        "      #lendo pagina do segmento \"seg\"\n",
        "        page = requests.get('https://www.fundamentus.com.br/resultado.php?segmento={}'.format(seg),\n",
        "                            headers = headers)\n",
        "        soup = BeautifulSoup(page.content,'html.parser')\n",
        "        \n",
        "        \n",
        "        \n",
        "        for row in soup.find_all('tr')[1:]:\n",
        "            row_papel = row.text.split('\\n')\n",
        "            row_papel.append(seg)\n",
        "            # concatenando\n",
        "            papel_fundamentus = pd.concat([papel_fundamentus,\n",
        "                                           pd.DataFrame([row_papel],\n",
        "                                                        columns = columns)])\n",
        "        papel_fundamentus.reset_index(inplace = True,drop=True)\n",
        "    except:\n",
        "        pass\n",
        "    else:\n",
        "        row_papel = []\n"
      ],
      "metadata": {
        "id": "6RwoL1fdPp02"
      },
      "execution_count": 5,
      "outputs": []
    },
    {
      "cell_type": "markdown",
      "source": [
        "O código entra em possíveis 100 setores e concatena até obtermos um data.frame final"
      ],
      "metadata": {
        "id": "9hOhV59LPtUp"
      }
    },
    {
      "cell_type": "markdown",
      "source": [
        "# Alterações no banco de dados"
      ],
      "metadata": {
        "id": "IBFUz3GHP_Wd"
      }
    },
    {
      "cell_type": "markdown",
      "source": [
        "Como quase todo banco de dados, foi necessário realizar alterações para que se possa trabalhar com ele"
      ],
      "metadata": {
        "id": "cWu7ZCI3QNrP"
      }
    },
    {
      "cell_type": "code",
      "source": [
        "for col in columns:\n",
        "    try:\n",
        "        # tirar os pontos de milhar\n",
        "        papel_fundamentus[col] = papel_fundamentus[col].str.replace('.','')\n",
        "        # trocar virgular por ponto e transformar para numero decimal\n",
        "        papel_fundamentus[col] = papel_fundamentus[col].str.replace(',','.')\n",
        "        # tirar as porcentagens\n",
        "        papel_fundamentus[col] = papel_fundamentus[col].str.replace('%','').astype('float')/100\n",
        "\n",
        "    except:\n",
        "        pass\n",
        "\n",
        "# remover colunas vazias\n",
        "papel_fundamentus = papel_fundamentus.drop(columns = [''])"
      ],
      "metadata": {
        "id": "VsWVnHC9QM-y"
      },
      "execution_count": null,
      "outputs": []
    },
    {
      "cell_type": "markdown",
      "source": [
        "# Construção de um ranking"
      ],
      "metadata": {
        "id": "Qa0t1NBHYHYs"
      }
    },
    {
      "cell_type": "markdown",
      "source": [
        "Fazendo um ranking baseado nesse artigo https://fiis.com.br/artigos/indicadores-fundos-imobiliarios/. O artigo destaca alguns aspectos importantes que os fundo imobiliarios devem apresentar, como a Liquidez do fundo, P/VP e o Dividend Yeld"
      ],
      "metadata": {
        "id": "whC8d5GrXwgf"
      }
    },
    {
      "cell_type": "code",
      "source": [
        "# filtrando para selecionar fundos com bastante liquidez\n",
        "papel_fundamentus_liq = papel_fundamentus[papel_fundamentus['Liq.2meses']>100000]\n",
        "#montando o ranking em que será levado em consideração o P/VP  e Div Yield\n",
        "ranking = pd.DataFrame()\n",
        "ranking['pos'] = range(1,101)\n",
        "ranking['P/VP'] = papel_fundamentus_liq[papel_fundamentus_liq['P/VP']>0].sort_values(by = ['P/VP'])['Papel'][:100].values\n",
        "ranking['Div.Yield'] = papel_fundamentus_liq.sort_values(by = ['Div.Yield'],ascending = False)['Papel'][:100].values"
      ],
      "metadata": {
        "id": "E4rci1NaRZjm"
      },
      "execution_count": 29,
      "outputs": []
    },
    {
      "cell_type": "code",
      "source": [
        "# ordenamos\n",
        "a = ranking.pivot_table(columns = 'P/VP',values = 'pos')\n",
        "b = ranking.pivot_table(columns = 'Div.Yield',values = 'pos')\n",
        "c = pd.concat([a,b])\n",
        "\n",
        "# ranking final é um mixer das classificações de cada papel para um indicador \n",
        "ranking_final = c.dropna(axis = 1).sum()"
      ],
      "metadata": {
        "id": "uciXs61iR6en"
      },
      "execution_count": 30,
      "outputs": []
    },
    {
      "cell_type": "code",
      "source": [
        "# o que tem a menor pontuação significa que ficou entre as posições mais baixas, ou seja, as primeiras posições.\n",
        "ranking_final.sort_values()[:10]"
      ],
      "metadata": {
        "colab": {
          "base_uri": "https://localhost:8080/"
        },
        "id": "E6jLEHw3UJ6r",
        "outputId": "966010e3-498e-4c92-8c0e-0a3b3b603628"
      },
      "execution_count": 33,
      "outputs": [
        {
          "output_type": "execute_result",
          "data": {
            "text/plain": [
              "LIGT3     22\n",
              "MRFG3     22\n",
              "BRPR3     24\n",
              "BRSR6     33\n",
              "MOVI3     38\n",
              "SAPR11    39\n",
              "BBAS3     39\n",
              "MYPK3     42\n",
              "PETR4     43\n",
              "CPLE11    48\n",
              "dtype: int64"
            ]
          },
          "metadata": {},
          "execution_count": 33
        }
      ]
    },
    {
      "cell_type": "markdown",
      "source": [
        "**Não é uma recomendação de investimento**"
      ],
      "metadata": {
        "id": "y1BDuIa-YL6q"
      }
    }
  ]
}